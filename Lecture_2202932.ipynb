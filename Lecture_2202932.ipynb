{
  "nbformat": 4,
  "nbformat_minor": 0,
  "metadata": {
    "colab": {
      "provenance": [],
      "collapsed_sections": [],
      "authorship_tag": "ABX9TyMjyyVM+8Jcj33doBQaY1In",
      "include_colab_link": true
    },
    "kernelspec": {
      "name": "python3",
      "display_name": "Python 3"
    },
    "language_info": {
      "name": "python"
    }
  },
  "cells": [
    {
      "cell_type": "markdown",
      "metadata": {
        "id": "view-in-github",
        "colab_type": "text"
      },
      "source": [
        "<a href=\"https://colab.research.google.com/github/jarvis123457/C-Tutorials/blob/main/Lecture_2202932.ipynb\" target=\"_parent\"><img src=\"https://colab.research.google.com/assets/colab-badge.svg\" alt=\"Open In Colab\"/></a>"
      ]
    },
    {
      "cell_type": "code",
      "execution_count": null,
      "metadata": {
        "colab": {
          "base_uri": "https://localhost:8080/"
        },
        "id": "fcXBdTTAAwzK",
        "outputId": "4eb61b54-772e-4c25-b294-9ca86a1133c3"
      },
      "outputs": [
        {
          "output_type": "stream",
          "name": "stdout",
          "text": [
            "Hello world\n"
          ]
        }
      ],
      "source": [
        "print(\"Hello world\")"
      ]
    },
    {
      "cell_type": "markdown",
      "source": [],
      "metadata": {
        "id": "1Wwo3UQhC9m5"
      }
    },
    {
      "cell_type": "code",
      "source": [
        "# Input and Printing\n",
        "\n",
        "x = input()\n",
        "print(x)"
      ],
      "metadata": {
        "colab": {
          "base_uri": "https://localhost:8080/"
        },
        "id": "kQCytE-vDJpg",
        "outputId": "c605f6f0-7552-41fa-d3f2-e0a7a520a9f0"
      },
      "execution_count": null,
      "outputs": [
        {
          "output_type": "stream",
          "name": "stdout",
          "text": [
            "232\n",
            "232\n"
          ]
        }
      ]
    },
    {
      "cell_type": "code",
      "source": [
        "print(\"for loop\")\n",
        "for i in range(10):\n",
        "  print(i+1)\n"
      ],
      "metadata": {
        "colab": {
          "base_uri": "https://localhost:8080/"
        },
        "id": "f3g9O3C2DY8I",
        "outputId": "50bbb29b-6b37-4d02-e3ca-2cbe3c619367"
      },
      "execution_count": null,
      "outputs": [
        {
          "output_type": "stream",
          "name": "stdout",
          "text": [
            "for loop\n",
            "1\n",
            "2\n",
            "3\n",
            "4\n",
            "5\n",
            "6\n",
            "7\n",
            "8\n",
            "9\n",
            "10\n"
          ]
        }
      ]
    },
    {
      "cell_type": "code",
      "source": [
        "# Arrays\n",
        "y=[0,0,0,0,0]\n",
        "print(y)\n",
        "\n",
        "for i in range(5):\n",
        "  y[i] = 4\n",
        "print(y)\n",
        "for i in range(5):\n",
        "  y[i] = i\n",
        "print(y)\n",
        "\n",
        "print(y[4])"
      ],
      "metadata": {
        "colab": {
          "base_uri": "https://localhost:8080/"
        },
        "id": "P65YUEFvFW6L",
        "outputId": "37200f23-398a-4a2f-e0ee-04f4ae281ae6"
      },
      "execution_count": null,
      "outputs": [
        {
          "output_type": "stream",
          "name": "stdout",
          "text": [
            "[0, 0, 0, 0, 0]\n",
            "[4, 4, 4, 4, 4]\n",
            "[0, 1, 2, 3, 4]\n",
            "4\n"
          ]
        }
      ]
    },
    {
      "cell_type": "code",
      "source": [
        "# Libraries\n",
        "\n",
        "from math import sqrt,sin,pi\n",
        "import sympy\n",
        "\n",
        "print(sin(pi/2))\n",
        "z=[0,0,0,0,0]\n",
        "for i in range(5):\n",
        "  z[i] = sympy.randprime(0,100)\n",
        "  print(sqrt(z[i]))"
      ],
      "metadata": {
        "colab": {
          "base_uri": "https://localhost:8080/"
        },
        "id": "udj3PNaZGIoC",
        "outputId": "3daa8284-1fbe-4ece-ab23-2746037c797c"
      },
      "execution_count": null,
      "outputs": [
        {
          "output_type": "stream",
          "name": "stdout",
          "text": [
            "1.0\n",
            "5.385164807134504\n",
            "8.18535277187245\n",
            "9.433981132056603\n",
            "8.426149773176359\n",
            "6.855654600401044\n"
          ]
        }
      ]
    },
    {
      "cell_type": "code",
      "source": [
        "from matplotlib import pyplot as plt\n",
        "import sympy\n",
        "x=[]\n",
        "# for i in range(5):\n",
        "#   a = float(input())\n",
        "#   x.append(a)\n",
        "for i in range(10000):\n",
        "  a = sympy.randprime(0,10000)\n",
        "  x.append(a)\n",
        "y=[]\n",
        "for i in range(10000):\n",
        "  a = sympy.randprime(0,10000)\n",
        "  y.append(a)\n",
        "plt.scatter (x,y)\n",
        "plt.xlabel('x axis')\n",
        "plt.ylabel('y axis')\n",
        "plt.show()\n",
        "\n",
        "\n"
      ],
      "metadata": {
        "id": "uk6gRb6xHlPU"
      },
      "execution_count": null,
      "outputs": []
    },
    {
      "cell_type": "code",
      "source": [
        "from math import sin,cos,pi\n",
        "\n",
        "r=float(input(\"Enter r:\"))\n",
        "d=float(input(\"Enter theta in degrees: \"))\n",
        "\n",
        "theta = d*pi/180\n",
        "\n",
        "#calculating x an y in plane polar coordinates\n",
        "x=r*cos(theta)\n",
        "y=r*sin(theta)\n",
        "print(\"x=\", x, \"\\ny=\",y)"
      ],
      "metadata": {
        "colab": {
          "base_uri": "https://localhost:8080/"
        },
        "id": "NvI48PfRIGdd",
        "outputId": "8f462ce2-bbcd-49bc-b737-f448b63aa5a3"
      },
      "execution_count": null,
      "outputs": [
        {
          "output_type": "stream",
          "name": "stdout",
          "text": [
            "Enter r:45\n",
            "Enter theta in degrees: 90\n",
            "x= 2.7554552980815448e-15 \n",
            "y= 45.0\n"
          ]
        }
      ]
    },
    {
      "cell_type": "code",
      "source": [
        "# Free Fall Object\n",
        "from matplotlib import pyplot as plt\n",
        "i=0\n",
        "h=0.001\n",
        "t_0=0\n",
        "v_0=0\n",
        "v=[v_0]\n",
        "t=[t_0]\n",
        "g=9.8\n",
        "a_0=g\n",
        "a=[a_0]\n",
        "C=0.5\n",
        "pho=1.225\n",
        "m=1\n",
        "A=pi*(0.1)**2\n",
        "n=1\n",
        "while n<=5:\n",
        "  v=[v_0]\n",
        "  t=[t_0]\n",
        "  i=0\n",
        "  while t[i]<=20:\n",
        "    a_n=g-1/(2*m)*C*pho*A*v[i]**n\n",
        "    v_n=v[i]+h*a_n\n",
        "    t_n=t[i]+h\n",
        "    a.append(a_n)\n",
        "    v.append(v_n)\n",
        "    t.append(t_n)\n",
        "    i=i+1\n",
        "  plt.plot (t,v,label=n)\n",
        "  n=n+1\n",
        "plt.xlabel('t axis')\n",
        "plt.ylabel('v axis')\n",
        "plt.legend()\n",
        "plt.show()\n",
        "\n"
      ],
      "metadata": {
        "colab": {
          "base_uri": "https://localhost:8080/",
          "height": 279
        },
        "id": "_yimb3QAQIWV",
        "outputId": "e99d7e6f-bd9e-4f2f-de1f-5c8e71370ce6"
      },
      "execution_count": null,
      "outputs": [
        {
          "output_type": "display_data",
          "data": {
            "text/plain": [
              "<Figure size 432x288 with 1 Axes>"
            ],
            "image/png": "[encoded data removed]"
          },
          "metadata": {
            "needs_background": "light"
          }
        }
      ]
    },
    {
      "cell_type": "code",
      "source": [
        "import numpy as np\n",
        "from matplotlib import pyplot as plt\n",
        "\n",
        "steps = 10**(4)\n",
        "x = np.linspace(0,100,steps)\n",
        "y = np.random.random(steps)\n",
        "\n",
        "plt.plot(x,y)\n",
        "plt.show()"
      ],
      "metadata": {
        "colab": {
          "base_uri": "https://localhost:8080/",
          "height": 265
        },
        "id": "PB9vubglG1ZU",
        "outputId": "acec47f7-d25f-4321-f802-866b0c138bde"
      },
      "execution_count": 1,
      "outputs": [
        {
          "output_type": "display_data",
          "data": {
            "text/plain": [
              "<Figure size 432x288 with 1 Axes>"
            ],
            "image/png": "[encoded data removed]"
          },
          "metadata": {
            "needs_background": "light"
          }
        }
      ]
    },
    {
      "cell_type": "markdown",
      "source": [
        "Object falling under the influence of gravity(without friction)\n",
        "$$F = \\sum_{i} F_{i}$$\n",
        "$$F=F_g$$\n",
        "$$ma=mg$$\n",
        "$$a=g$$\n",
        "$$\\frac{dv}{dt}=g$$"
      ],
      "metadata": {
        "id": "S8RdH4bTHpJ8"
      }
    },
    {
      "cell_type": "code",
      "source": [
        "from scipy.integrate import odeint\n",
        "from matplotlib import pyplot as plt\n",
        "import numpy as np\n",
        "def f(v_0,t):\n",
        "  g = 9.81\n",
        "  z = g\n",
        "  return z\n",
        "\n",
        "v_0 = 4\n",
        "t = np.linspace(0,20)\n",
        "\n",
        "v = odeint(f,v_0,t)\n",
        "\n",
        "plt.plot(t,v)\n",
        "plt.xlabel('time')\n",
        "plt.ylabel('velocity')\n",
        "plt.show()"
      ],
      "metadata": {
        "colab": {
          "base_uri": "https://localhost:8080/",
          "height": 279
        },
        "id": "CSxnLZYDIDJx",
        "outputId": "62e24e76-9334-4c88-e113-d779f3430e1c"
      },
      "execution_count": 6,
      "outputs": [
        {
          "output_type": "display_data",
          "data": {
            "text/plain": [
              "<Figure size 432x288 with 1 Axes>"
            ],
            "image/png": "[encoded data removed]"
          },
          "metadata": {
            "needs_background": "light"
          }
        }
      ]
    },
    {
      "cell_type": "markdown",
      "source": [
        "Object falling under the influence of gravity(without friction)\n",
        "$$F = \\sum_{i} F_{i}$$\n",
        "$$F=F_g$$\n",
        "$$ma=mg-kv^{2}$$\n",
        "$$a=g-\\frac{kv^{2}}{m}$$\n",
        "$$\\frac{dv}{dt}=g-\\frac{kv^{2}}{m}$$\n",
        "$$\\frac{dv}{dt}=g-\\frac{c\\rho  \\pi }{2m}v^{2}$$\n"
      ],
      "metadata": {
        "id": "Rjsq1NFWJzUe"
      }
    },
    {
      "cell_type": "code",
      "source": [
        "from scipy.integrate import odeint\n",
        "from matplotlib import pyplot as plt\n",
        "import numpy as np\n",
        "import math\n",
        "def f(v_0,t):\n",
        "  c=0.5\n",
        "  p=1.225\n",
        "  m=1\n",
        "  r=0.1\n",
        "  g = 9.81\n",
        "  nunu = g- (c*p*math.pi*r**2)/(2*m)*v_0**2\n",
        "  return nunu\n",
        "\n",
        "v_0 = 0\n",
        "t = np.linspace(0,20)\n",
        "\n",
        "v = odeint(f,v_0,t)\n",
        "\n",
        "plt.plot(t,v)\n",
        "plt.xlabel('time')\n",
        "plt.ylabel('velocity')\n",
        "plt.show()"
      ],
      "metadata": {
        "colab": {
          "base_uri": "https://localhost:8080/",
          "height": 279
        },
        "id": "BfzfLfvMKtZr",
        "outputId": "282d9560-8e60-462a-e1cc-d01b03e3180e"
      },
      "execution_count": 12,
      "outputs": [
        {
          "output_type": "display_data",
          "data": {
            "text/plain": [
              "<Figure size 432x288 with 1 Axes>"
            ],
            "image/png": "[encoded data removed]"
          },
          "metadata": {
            "needs_background": "light"
          }
        }
      ]
    }
  ]
}